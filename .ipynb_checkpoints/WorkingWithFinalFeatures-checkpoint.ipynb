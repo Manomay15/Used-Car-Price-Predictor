{
 "cells": [
  {
   "cell_type": "code",
   "execution_count": 38,
   "id": "fae18f46",
   "metadata": {},
   "outputs": [],
   "source": [
    "import numpy as np\n",
    "import pandas as pd\n",
    "import matplotlib.pyplot as plt"
   ]
  },
  {
   "cell_type": "code",
   "execution_count": 39,
   "id": "22f5bb6a",
   "metadata": {},
   "outputs": [],
   "source": [
    "train_all_features = pd.read_csv(r\"C:\\Users\\HP\\Desktop\\SDP\\Used-Car-Price-Predictor\\cars_data\\train.csv\")"
   ]
  },
  {
   "cell_type": "code",
   "execution_count": 40,
   "id": "88ce2ec8",
   "metadata": {},
   "outputs": [
    {
     "data": {
      "text/plain": [
       "Index(['id', 'car_name', 'yr_mfr', 'fuel_type', 'kms_run', 'sale_price',\n",
       "       'city', 'times_viewed', 'body_type', 'transmission', 'variant',\n",
       "       'assured_buy', 'registered_city', 'registered_state', 'is_hot', 'rto',\n",
       "       'source', 'make', 'model', 'car_availability', 'total_owners',\n",
       "       'broker_quote', 'original_price', 'car_rating', 'ad_created_on',\n",
       "       'fitness_certificate', 'emi_starts_from', 'booking_down_pymnt',\n",
       "       'reserved', 'warranty_avail'],\n",
       "      dtype='object')"
      ]
     },
     "execution_count": 40,
     "metadata": {},
     "output_type": "execute_result"
    }
   ],
   "source": [
    "train_all_features.columns"
   ]
  },
  {
   "cell_type": "code",
   "execution_count": 41,
   "id": "8d607724",
   "metadata": {},
   "outputs": [],
   "source": [
    "train = train_all_features[['car_name', 'yr_mfr', 'fuel_type', 'kms_run','city','body_type', 'transmission','total_owners','original_price','warranty_avail', 'sale_price']]"
   ]
  },
  {
   "cell_type": "code",
   "execution_count": 42,
   "id": "f59b1ab4",
   "metadata": {},
   "outputs": [],
   "source": [
    "train.to_csv('final_train.csv')"
   ]
  },
  {
   "cell_type": "code",
   "execution_count": 43,
   "id": "231b7666",
   "metadata": {},
   "outputs": [
    {
     "data": {
      "text/html": [
       "<div>\n",
       "<style scoped>\n",
       "    .dataframe tbody tr th:only-of-type {\n",
       "        vertical-align: middle;\n",
       "    }\n",
       "\n",
       "    .dataframe tbody tr th {\n",
       "        vertical-align: top;\n",
       "    }\n",
       "\n",
       "    .dataframe thead th {\n",
       "        text-align: right;\n",
       "    }\n",
       "</style>\n",
       "<table border=\"1\" class=\"dataframe\">\n",
       "  <thead>\n",
       "    <tr style=\"text-align: right;\">\n",
       "      <th></th>\n",
       "      <th>car_name</th>\n",
       "      <th>yr_mfr</th>\n",
       "      <th>fuel_type</th>\n",
       "      <th>kms_run</th>\n",
       "      <th>city</th>\n",
       "      <th>body_type</th>\n",
       "      <th>transmission</th>\n",
       "      <th>total_owners</th>\n",
       "      <th>original_price</th>\n",
       "      <th>warranty_avail</th>\n",
       "    </tr>\n",
       "  </thead>\n",
       "  <tbody>\n",
       "    <tr>\n",
       "      <th>0</th>\n",
       "      <td>maruti swift</td>\n",
       "      <td>2015</td>\n",
       "      <td>petrol</td>\n",
       "      <td>8063</td>\n",
       "      <td>noida</td>\n",
       "      <td>hatchback</td>\n",
       "      <td>manual</td>\n",
       "      <td>2</td>\n",
       "      <td>404177.0</td>\n",
       "      <td>False</td>\n",
       "    </tr>\n",
       "    <tr>\n",
       "      <th>1</th>\n",
       "      <td>maruti alto 800</td>\n",
       "      <td>2016</td>\n",
       "      <td>petrol</td>\n",
       "      <td>23104</td>\n",
       "      <td>noida</td>\n",
       "      <td>hatchback</td>\n",
       "      <td>manual</td>\n",
       "      <td>1</td>\n",
       "      <td>354313.0</td>\n",
       "      <td>False</td>\n",
       "    </tr>\n",
       "    <tr>\n",
       "      <th>2</th>\n",
       "      <td>hyundai grand i10</td>\n",
       "      <td>2017</td>\n",
       "      <td>petrol</td>\n",
       "      <td>23402</td>\n",
       "      <td>noida</td>\n",
       "      <td>hatchback</td>\n",
       "      <td>manual</td>\n",
       "      <td>1</td>\n",
       "      <td>NaN</td>\n",
       "      <td>False</td>\n",
       "    </tr>\n",
       "    <tr>\n",
       "      <th>3</th>\n",
       "      <td>maruti swift</td>\n",
       "      <td>2013</td>\n",
       "      <td>diesel</td>\n",
       "      <td>39124</td>\n",
       "      <td>noida</td>\n",
       "      <td>hatchback</td>\n",
       "      <td>manual</td>\n",
       "      <td>1</td>\n",
       "      <td>374326.0</td>\n",
       "      <td>False</td>\n",
       "    </tr>\n",
       "    <tr>\n",
       "      <th>4</th>\n",
       "      <td>hyundai grand i10</td>\n",
       "      <td>2015</td>\n",
       "      <td>petrol</td>\n",
       "      <td>22116</td>\n",
       "      <td>noida</td>\n",
       "      <td>hatchback</td>\n",
       "      <td>manual</td>\n",
       "      <td>1</td>\n",
       "      <td>367216.0</td>\n",
       "      <td>False</td>\n",
       "    </tr>\n",
       "  </tbody>\n",
       "</table>\n",
       "</div>"
      ],
      "text/plain": [
       "            car_name  yr_mfr fuel_type  kms_run   city  body_type  \\\n",
       "0       maruti swift    2015    petrol     8063  noida  hatchback   \n",
       "1    maruti alto 800    2016    petrol    23104  noida  hatchback   \n",
       "2  hyundai grand i10    2017    petrol    23402  noida  hatchback   \n",
       "3       maruti swift    2013    diesel    39124  noida  hatchback   \n",
       "4  hyundai grand i10    2015    petrol    22116  noida  hatchback   \n",
       "\n",
       "  transmission  total_owners  original_price  warranty_avail  \n",
       "0       manual             2        404177.0           False  \n",
       "1       manual             1        354313.0           False  \n",
       "2       manual             1             NaN           False  \n",
       "3       manual             1        374326.0           False  \n",
       "4       manual             1        367216.0           False  "
      ]
     },
     "execution_count": 43,
     "metadata": {},
     "output_type": "execute_result"
    }
   ],
   "source": [
    "train.head()"
   ]
  },
  {
   "cell_type": "code",
   "execution_count": 44,
   "id": "44355e8a",
   "metadata": {},
   "outputs": [
    {
     "data": {
      "text/plain": [
       "(6399, 10)"
      ]
     },
     "execution_count": 44,
     "metadata": {},
     "output_type": "execute_result"
    }
   ],
   "source": [
    "train.shape"
   ]
  },
  {
   "cell_type": "code",
   "execution_count": 45,
   "id": "19176bba",
   "metadata": {},
   "outputs": [],
   "source": [
    "def strip_encode_car(i):\n",
    "    k = i.split()\n",
    "    i = k[0]\n",
    "    if i == 'opel': \n",
    "        return 0,\n",
    "    if i == 'chevrolet': \n",
    "        return 1,\n",
    "    if i == 'datsun': \n",
    "        return 2\n",
    "    if i == 'mitsubishi': \n",
    "        return 3\n",
    "    if i == 'fiat': \n",
    "        return 4\n",
    "    if i == 'nissan': \n",
    "        return 5\n",
    "    if i == 'renault': \n",
    "        return 6\n",
    "    if i == 'maruti': \n",
    "        return 7\n",
    "    if i == 'hyundai': \n",
    "        return 8\n",
    "    if i == 'honda': \n",
    "        return 9\n",
    "    if i == 'tata': \n",
    "        return 10\n",
    "    if i == 'ford': \n",
    "        return 11\n",
    "    if i == 'volkswagen': \n",
    "        return 12\n",
    "    if i == 'skoda': \n",
    "        return 13\n",
    "    if i == 'ssangyong': \n",
    "        return 14\n",
    "    if i == 'mahindra': \n",
    "        return 15\n",
    "    if i == 'toyota': \n",
    "        return 16\n",
    "    if i == 'isuzu': \n",
    "        return 17\n",
    "    if i == 'bmw': \n",
    "        return 18\n",
    "    if i == 'mercedes': \n",
    "        return 19\n",
    "    if i == 'volvo': \n",
    "        return 20\n",
    "    if i == 'jeep': \n",
    "        return 21\n",
    "    if i == 'audi': \n",
    "        return 22\n",
    "    if i == 'kia': \n",
    "        return 23\n",
    "    if i == 'mg': \n",
    "        return 24\n",
    "    if i == 'jaguar': \n",
    "        return 25\n"
   ]
  },
  {
   "cell_type": "code",
   "execution_count": 46,
   "id": "ca954cec",
   "metadata": {},
   "outputs": [
    {
     "name": "stderr",
     "output_type": "stream",
     "text": [
      "<ipython-input-46-b16d7216bc6e>:1: SettingWithCopyWarning: \n",
      "A value is trying to be set on a copy of a slice from a DataFrame.\n",
      "Try using .loc[row_indexer,col_indexer] = value instead\n",
      "\n",
      "See the caveats in the documentation: https://pandas.pydata.org/pandas-docs/stable/user_guide/indexing.html#returning-a-view-versus-a-copy\n",
      "  train['car_name'] = train['car_name'].apply(strip_encode_car)\n"
     ]
    }
   ],
   "source": [
    "train['car_name'] = train['car_name'].apply(strip_encode_car)"
   ]
  },
  {
   "cell_type": "code",
   "execution_count": 47,
   "id": "c8b20e06",
   "metadata": {},
   "outputs": [
    {
     "data": {
      "text/html": [
       "<div>\n",
       "<style scoped>\n",
       "    .dataframe tbody tr th:only-of-type {\n",
       "        vertical-align: middle;\n",
       "    }\n",
       "\n",
       "    .dataframe tbody tr th {\n",
       "        vertical-align: top;\n",
       "    }\n",
       "\n",
       "    .dataframe thead th {\n",
       "        text-align: right;\n",
       "    }\n",
       "</style>\n",
       "<table border=\"1\" class=\"dataframe\">\n",
       "  <thead>\n",
       "    <tr style=\"text-align: right;\">\n",
       "      <th></th>\n",
       "      <th>car_name</th>\n",
       "      <th>yr_mfr</th>\n",
       "      <th>fuel_type</th>\n",
       "      <th>kms_run</th>\n",
       "      <th>city</th>\n",
       "      <th>body_type</th>\n",
       "      <th>transmission</th>\n",
       "      <th>total_owners</th>\n",
       "      <th>original_price</th>\n",
       "      <th>warranty_avail</th>\n",
       "    </tr>\n",
       "  </thead>\n",
       "  <tbody>\n",
       "    <tr>\n",
       "      <th>0</th>\n",
       "      <td>7</td>\n",
       "      <td>2015</td>\n",
       "      <td>petrol</td>\n",
       "      <td>8063</td>\n",
       "      <td>noida</td>\n",
       "      <td>hatchback</td>\n",
       "      <td>manual</td>\n",
       "      <td>2</td>\n",
       "      <td>404177.0</td>\n",
       "      <td>False</td>\n",
       "    </tr>\n",
       "    <tr>\n",
       "      <th>1</th>\n",
       "      <td>7</td>\n",
       "      <td>2016</td>\n",
       "      <td>petrol</td>\n",
       "      <td>23104</td>\n",
       "      <td>noida</td>\n",
       "      <td>hatchback</td>\n",
       "      <td>manual</td>\n",
       "      <td>1</td>\n",
       "      <td>354313.0</td>\n",
       "      <td>False</td>\n",
       "    </tr>\n",
       "    <tr>\n",
       "      <th>2</th>\n",
       "      <td>8</td>\n",
       "      <td>2017</td>\n",
       "      <td>petrol</td>\n",
       "      <td>23402</td>\n",
       "      <td>noida</td>\n",
       "      <td>hatchback</td>\n",
       "      <td>manual</td>\n",
       "      <td>1</td>\n",
       "      <td>NaN</td>\n",
       "      <td>False</td>\n",
       "    </tr>\n",
       "    <tr>\n",
       "      <th>3</th>\n",
       "      <td>7</td>\n",
       "      <td>2013</td>\n",
       "      <td>diesel</td>\n",
       "      <td>39124</td>\n",
       "      <td>noida</td>\n",
       "      <td>hatchback</td>\n",
       "      <td>manual</td>\n",
       "      <td>1</td>\n",
       "      <td>374326.0</td>\n",
       "      <td>False</td>\n",
       "    </tr>\n",
       "    <tr>\n",
       "      <th>4</th>\n",
       "      <td>8</td>\n",
       "      <td>2015</td>\n",
       "      <td>petrol</td>\n",
       "      <td>22116</td>\n",
       "      <td>noida</td>\n",
       "      <td>hatchback</td>\n",
       "      <td>manual</td>\n",
       "      <td>1</td>\n",
       "      <td>367216.0</td>\n",
       "      <td>False</td>\n",
       "    </tr>\n",
       "  </tbody>\n",
       "</table>\n",
       "</div>"
      ],
      "text/plain": [
       "  car_name  yr_mfr fuel_type  kms_run   city  body_type transmission  \\\n",
       "0        7    2015    petrol     8063  noida  hatchback       manual   \n",
       "1        7    2016    petrol    23104  noida  hatchback       manual   \n",
       "2        8    2017    petrol    23402  noida  hatchback       manual   \n",
       "3        7    2013    diesel    39124  noida  hatchback       manual   \n",
       "4        8    2015    petrol    22116  noida  hatchback       manual   \n",
       "\n",
       "   total_owners  original_price  warranty_avail  \n",
       "0             2        404177.0           False  \n",
       "1             1        354313.0           False  \n",
       "2             1             NaN           False  \n",
       "3             1        374326.0           False  \n",
       "4             1        367216.0           False  "
      ]
     },
     "execution_count": 47,
     "metadata": {},
     "output_type": "execute_result"
    }
   ],
   "source": [
    "train.head()"
   ]
  },
  {
   "cell_type": "code",
   "execution_count": 48,
   "id": "ea366115",
   "metadata": {},
   "outputs": [
    {
     "data": {
      "text/plain": [
       "(6399, 10)"
      ]
     },
     "execution_count": 48,
     "metadata": {},
     "output_type": "execute_result"
    }
   ],
   "source": [
    "train.shape"
   ]
  },
  {
   "cell_type": "code",
   "execution_count": 49,
   "id": "464d74c2",
   "metadata": {},
   "outputs": [],
   "source": [
    "def fuel(i):\n",
    "    if i == 'petrol & lpg':\n",
    "        return 0\n",
    "    if i == 'petrol & cng':\n",
    "        return 1\n",
    "    if i == 'petrol':\n",
    "        return 2\n",
    "    if i == 'electric':\n",
    "        return 3\n",
    "    if i == 'diesel':\n",
    "        return 4"
   ]
  },
  {
   "cell_type": "code",
   "execution_count": 50,
   "id": "3089a761",
   "metadata": {},
   "outputs": [
    {
     "name": "stderr",
     "output_type": "stream",
     "text": [
      "<ipython-input-50-7220a62e20cd>:1: SettingWithCopyWarning: \n",
      "A value is trying to be set on a copy of a slice from a DataFrame.\n",
      "Try using .loc[row_indexer,col_indexer] = value instead\n",
      "\n",
      "See the caveats in the documentation: https://pandas.pydata.org/pandas-docs/stable/user_guide/indexing.html#returning-a-view-versus-a-copy\n",
      "  train['fuel_type'] = train['fuel_type'].apply(fuel)\n"
     ]
    }
   ],
   "source": [
    "train['fuel_type'] = train['fuel_type'].apply(fuel)"
   ]
  },
  {
   "cell_type": "code",
   "execution_count": 51,
   "id": "2871a8ee",
   "metadata": {},
   "outputs": [
    {
     "data": {
      "text/html": [
       "<div>\n",
       "<style scoped>\n",
       "    .dataframe tbody tr th:only-of-type {\n",
       "        vertical-align: middle;\n",
       "    }\n",
       "\n",
       "    .dataframe tbody tr th {\n",
       "        vertical-align: top;\n",
       "    }\n",
       "\n",
       "    .dataframe thead th {\n",
       "        text-align: right;\n",
       "    }\n",
       "</style>\n",
       "<table border=\"1\" class=\"dataframe\">\n",
       "  <thead>\n",
       "    <tr style=\"text-align: right;\">\n",
       "      <th></th>\n",
       "      <th>car_name</th>\n",
       "      <th>yr_mfr</th>\n",
       "      <th>fuel_type</th>\n",
       "      <th>kms_run</th>\n",
       "      <th>city</th>\n",
       "      <th>body_type</th>\n",
       "      <th>transmission</th>\n",
       "      <th>total_owners</th>\n",
       "      <th>original_price</th>\n",
       "      <th>warranty_avail</th>\n",
       "    </tr>\n",
       "  </thead>\n",
       "  <tbody>\n",
       "    <tr>\n",
       "      <th>0</th>\n",
       "      <td>7</td>\n",
       "      <td>2015</td>\n",
       "      <td>2</td>\n",
       "      <td>8063</td>\n",
       "      <td>noida</td>\n",
       "      <td>hatchback</td>\n",
       "      <td>manual</td>\n",
       "      <td>2</td>\n",
       "      <td>404177.0</td>\n",
       "      <td>False</td>\n",
       "    </tr>\n",
       "    <tr>\n",
       "      <th>1</th>\n",
       "      <td>7</td>\n",
       "      <td>2016</td>\n",
       "      <td>2</td>\n",
       "      <td>23104</td>\n",
       "      <td>noida</td>\n",
       "      <td>hatchback</td>\n",
       "      <td>manual</td>\n",
       "      <td>1</td>\n",
       "      <td>354313.0</td>\n",
       "      <td>False</td>\n",
       "    </tr>\n",
       "    <tr>\n",
       "      <th>2</th>\n",
       "      <td>8</td>\n",
       "      <td>2017</td>\n",
       "      <td>2</td>\n",
       "      <td>23402</td>\n",
       "      <td>noida</td>\n",
       "      <td>hatchback</td>\n",
       "      <td>manual</td>\n",
       "      <td>1</td>\n",
       "      <td>NaN</td>\n",
       "      <td>False</td>\n",
       "    </tr>\n",
       "    <tr>\n",
       "      <th>3</th>\n",
       "      <td>7</td>\n",
       "      <td>2013</td>\n",
       "      <td>4</td>\n",
       "      <td>39124</td>\n",
       "      <td>noida</td>\n",
       "      <td>hatchback</td>\n",
       "      <td>manual</td>\n",
       "      <td>1</td>\n",
       "      <td>374326.0</td>\n",
       "      <td>False</td>\n",
       "    </tr>\n",
       "    <tr>\n",
       "      <th>4</th>\n",
       "      <td>8</td>\n",
       "      <td>2015</td>\n",
       "      <td>2</td>\n",
       "      <td>22116</td>\n",
       "      <td>noida</td>\n",
       "      <td>hatchback</td>\n",
       "      <td>manual</td>\n",
       "      <td>1</td>\n",
       "      <td>367216.0</td>\n",
       "      <td>False</td>\n",
       "    </tr>\n",
       "  </tbody>\n",
       "</table>\n",
       "</div>"
      ],
      "text/plain": [
       "  car_name  yr_mfr  fuel_type  kms_run   city  body_type transmission  \\\n",
       "0        7    2015          2     8063  noida  hatchback       manual   \n",
       "1        7    2016          2    23104  noida  hatchback       manual   \n",
       "2        8    2017          2    23402  noida  hatchback       manual   \n",
       "3        7    2013          4    39124  noida  hatchback       manual   \n",
       "4        8    2015          2    22116  noida  hatchback       manual   \n",
       "\n",
       "   total_owners  original_price  warranty_avail  \n",
       "0             2        404177.0           False  \n",
       "1             1        354313.0           False  \n",
       "2             1             NaN           False  \n",
       "3             1        374326.0           False  \n",
       "4             1        367216.0           False  "
      ]
     },
     "execution_count": 51,
     "metadata": {},
     "output_type": "execute_result"
    }
   ],
   "source": [
    "train.head()"
   ]
  },
  {
   "cell_type": "code",
   "execution_count": 52,
   "id": "eea7cfb1",
   "metadata": {},
   "outputs": [],
   "source": [
    "def body(i):\n",
    "    if i == 'hatchback':\n",
    "        return 0\n",
    "    if i == 'sedan':\n",
    "        return 1\n",
    "    if i == 'suv':\n",
    "        return 2\n",
    "    if i == 'luxury sedan':\n",
    "        return 3\n",
    "    if i == 'luxury suv':\n",
    "        return 4"
   ]
  },
  {
   "cell_type": "code",
   "execution_count": 53,
   "id": "32c8d24c",
   "metadata": {},
   "outputs": [
    {
     "name": "stderr",
     "output_type": "stream",
     "text": [
      "<ipython-input-53-7fa1a9d31d2d>:1: SettingWithCopyWarning: \n",
      "A value is trying to be set on a copy of a slice from a DataFrame.\n",
      "Try using .loc[row_indexer,col_indexer] = value instead\n",
      "\n",
      "See the caveats in the documentation: https://pandas.pydata.org/pandas-docs/stable/user_guide/indexing.html#returning-a-view-versus-a-copy\n",
      "  train['body_type'] = train['body_type'].apply(body)\n"
     ]
    }
   ],
   "source": [
    "train['body_type'] = train['body_type'].apply(body)"
   ]
  },
  {
   "cell_type": "code",
   "execution_count": 54,
   "id": "ebd4e3e1",
   "metadata": {},
   "outputs": [
    {
     "data": {
      "text/html": [
       "<div>\n",
       "<style scoped>\n",
       "    .dataframe tbody tr th:only-of-type {\n",
       "        vertical-align: middle;\n",
       "    }\n",
       "\n",
       "    .dataframe tbody tr th {\n",
       "        vertical-align: top;\n",
       "    }\n",
       "\n",
       "    .dataframe thead th {\n",
       "        text-align: right;\n",
       "    }\n",
       "</style>\n",
       "<table border=\"1\" class=\"dataframe\">\n",
       "  <thead>\n",
       "    <tr style=\"text-align: right;\">\n",
       "      <th></th>\n",
       "      <th>car_name</th>\n",
       "      <th>yr_mfr</th>\n",
       "      <th>fuel_type</th>\n",
       "      <th>kms_run</th>\n",
       "      <th>city</th>\n",
       "      <th>body_type</th>\n",
       "      <th>transmission</th>\n",
       "      <th>total_owners</th>\n",
       "      <th>original_price</th>\n",
       "      <th>warranty_avail</th>\n",
       "    </tr>\n",
       "  </thead>\n",
       "  <tbody>\n",
       "    <tr>\n",
       "      <th>0</th>\n",
       "      <td>7</td>\n",
       "      <td>2015</td>\n",
       "      <td>2</td>\n",
       "      <td>8063</td>\n",
       "      <td>noida</td>\n",
       "      <td>0.0</td>\n",
       "      <td>manual</td>\n",
       "      <td>2</td>\n",
       "      <td>404177.0</td>\n",
       "      <td>False</td>\n",
       "    </tr>\n",
       "    <tr>\n",
       "      <th>1</th>\n",
       "      <td>7</td>\n",
       "      <td>2016</td>\n",
       "      <td>2</td>\n",
       "      <td>23104</td>\n",
       "      <td>noida</td>\n",
       "      <td>0.0</td>\n",
       "      <td>manual</td>\n",
       "      <td>1</td>\n",
       "      <td>354313.0</td>\n",
       "      <td>False</td>\n",
       "    </tr>\n",
       "    <tr>\n",
       "      <th>2</th>\n",
       "      <td>8</td>\n",
       "      <td>2017</td>\n",
       "      <td>2</td>\n",
       "      <td>23402</td>\n",
       "      <td>noida</td>\n",
       "      <td>0.0</td>\n",
       "      <td>manual</td>\n",
       "      <td>1</td>\n",
       "      <td>NaN</td>\n",
       "      <td>False</td>\n",
       "    </tr>\n",
       "    <tr>\n",
       "      <th>3</th>\n",
       "      <td>7</td>\n",
       "      <td>2013</td>\n",
       "      <td>4</td>\n",
       "      <td>39124</td>\n",
       "      <td>noida</td>\n",
       "      <td>0.0</td>\n",
       "      <td>manual</td>\n",
       "      <td>1</td>\n",
       "      <td>374326.0</td>\n",
       "      <td>False</td>\n",
       "    </tr>\n",
       "    <tr>\n",
       "      <th>4</th>\n",
       "      <td>8</td>\n",
       "      <td>2015</td>\n",
       "      <td>2</td>\n",
       "      <td>22116</td>\n",
       "      <td>noida</td>\n",
       "      <td>0.0</td>\n",
       "      <td>manual</td>\n",
       "      <td>1</td>\n",
       "      <td>367216.0</td>\n",
       "      <td>False</td>\n",
       "    </tr>\n",
       "  </tbody>\n",
       "</table>\n",
       "</div>"
      ],
      "text/plain": [
       "  car_name  yr_mfr  fuel_type  kms_run   city  body_type transmission  \\\n",
       "0        7    2015          2     8063  noida        0.0       manual   \n",
       "1        7    2016          2    23104  noida        0.0       manual   \n",
       "2        8    2017          2    23402  noida        0.0       manual   \n",
       "3        7    2013          4    39124  noida        0.0       manual   \n",
       "4        8    2015          2    22116  noida        0.0       manual   \n",
       "\n",
       "   total_owners  original_price  warranty_avail  \n",
       "0             2        404177.0           False  \n",
       "1             1        354313.0           False  \n",
       "2             1             NaN           False  \n",
       "3             1        374326.0           False  \n",
       "4             1        367216.0           False  "
      ]
     },
     "execution_count": 54,
     "metadata": {},
     "output_type": "execute_result"
    }
   ],
   "source": [
    "train.head()"
   ]
  },
  {
   "cell_type": "code",
   "execution_count": 55,
   "id": "8e55695d",
   "metadata": {},
   "outputs": [],
   "source": [
    "def transmission(i):\n",
    "    import math\n",
    "    if i == 'manual':\n",
    "        return 0\n",
    "    if i == 'automatic':\n",
    "        return 1"
   ]
  },
  {
   "cell_type": "code",
   "execution_count": 56,
   "id": "d13e9af4",
   "metadata": {},
   "outputs": [
    {
     "name": "stderr",
     "output_type": "stream",
     "text": [
      "<ipython-input-56-b88ce87bc218>:1: SettingWithCopyWarning: \n",
      "A value is trying to be set on a copy of a slice from a DataFrame.\n",
      "Try using .loc[row_indexer,col_indexer] = value instead\n",
      "\n",
      "See the caveats in the documentation: https://pandas.pydata.org/pandas-docs/stable/user_guide/indexing.html#returning-a-view-versus-a-copy\n",
      "  train['transmission'] = train['transmission'].apply(transmission)\n"
     ]
    }
   ],
   "source": [
    "train['transmission'] = train['transmission'].apply(transmission)"
   ]
  },
  {
   "cell_type": "code",
   "execution_count": 62,
   "id": "21432cae",
   "metadata": {},
   "outputs": [
    {
     "data": {
      "text/plain": [
       "0"
      ]
     },
     "execution_count": 62,
     "metadata": {},
     "output_type": "execute_result"
    }
   ],
   "source": [
    "train.transmission.isna().sum()"
   ]
  },
  {
   "cell_type": "code",
   "execution_count": 58,
   "id": "290d157c",
   "metadata": {},
   "outputs": [
    {
     "data": {
      "text/plain": [
       "0    0.0\n",
       "1    0.0\n",
       "2    0.0\n",
       "3    0.0\n",
       "4    0.0\n",
       "Name: transmission, dtype: float64"
      ]
     },
     "execution_count": 58,
     "metadata": {},
     "output_type": "execute_result"
    }
   ],
   "source": [
    "train['transmission'].head()"
   ]
  },
  {
   "cell_type": "code",
   "execution_count": 61,
   "id": "babc0da5",
   "metadata": {},
   "outputs": [
    {
     "name": "stderr",
     "output_type": "stream",
     "text": [
      "<ipython-input-61-2e8e4eb5a402>:1: SettingWithCopyWarning: \n",
      "A value is trying to be set on a copy of a slice from a DataFrame.\n",
      "Try using .loc[row_indexer,col_indexer] = value instead\n",
      "\n",
      "See the caveats in the documentation: https://pandas.pydata.org/pandas-docs/stable/user_guide/indexing.html#returning-a-view-versus-a-copy\n",
      "  train['transmission'] = train['transmission'].fillna(2)\n"
     ]
    }
   ],
   "source": [
    "train['transmission'] = train['transmission'].fillna(2)"
   ]
  },
  {
   "cell_type": "code",
   "execution_count": 63,
   "id": "9e2d0111",
   "metadata": {},
   "outputs": [
    {
     "data": {
      "text/html": [
       "<div>\n",
       "<style scoped>\n",
       "    .dataframe tbody tr th:only-of-type {\n",
       "        vertical-align: middle;\n",
       "    }\n",
       "\n",
       "    .dataframe tbody tr th {\n",
       "        vertical-align: top;\n",
       "    }\n",
       "\n",
       "    .dataframe thead th {\n",
       "        text-align: right;\n",
       "    }\n",
       "</style>\n",
       "<table border=\"1\" class=\"dataframe\">\n",
       "  <thead>\n",
       "    <tr style=\"text-align: right;\">\n",
       "      <th></th>\n",
       "      <th>car_name</th>\n",
       "      <th>yr_mfr</th>\n",
       "      <th>fuel_type</th>\n",
       "      <th>kms_run</th>\n",
       "      <th>city</th>\n",
       "      <th>body_type</th>\n",
       "      <th>transmission</th>\n",
       "      <th>total_owners</th>\n",
       "      <th>original_price</th>\n",
       "      <th>warranty_avail</th>\n",
       "    </tr>\n",
       "  </thead>\n",
       "  <tbody>\n",
       "    <tr>\n",
       "      <th>0</th>\n",
       "      <td>7</td>\n",
       "      <td>2015</td>\n",
       "      <td>2</td>\n",
       "      <td>8063</td>\n",
       "      <td>noida</td>\n",
       "      <td>0.0</td>\n",
       "      <td>0.0</td>\n",
       "      <td>2</td>\n",
       "      <td>404177.0</td>\n",
       "      <td>False</td>\n",
       "    </tr>\n",
       "    <tr>\n",
       "      <th>1</th>\n",
       "      <td>7</td>\n",
       "      <td>2016</td>\n",
       "      <td>2</td>\n",
       "      <td>23104</td>\n",
       "      <td>noida</td>\n",
       "      <td>0.0</td>\n",
       "      <td>0.0</td>\n",
       "      <td>1</td>\n",
       "      <td>354313.0</td>\n",
       "      <td>False</td>\n",
       "    </tr>\n",
       "    <tr>\n",
       "      <th>2</th>\n",
       "      <td>8</td>\n",
       "      <td>2017</td>\n",
       "      <td>2</td>\n",
       "      <td>23402</td>\n",
       "      <td>noida</td>\n",
       "      <td>0.0</td>\n",
       "      <td>0.0</td>\n",
       "      <td>1</td>\n",
       "      <td>NaN</td>\n",
       "      <td>False</td>\n",
       "    </tr>\n",
       "    <tr>\n",
       "      <th>3</th>\n",
       "      <td>7</td>\n",
       "      <td>2013</td>\n",
       "      <td>4</td>\n",
       "      <td>39124</td>\n",
       "      <td>noida</td>\n",
       "      <td>0.0</td>\n",
       "      <td>0.0</td>\n",
       "      <td>1</td>\n",
       "      <td>374326.0</td>\n",
       "      <td>False</td>\n",
       "    </tr>\n",
       "    <tr>\n",
       "      <th>4</th>\n",
       "      <td>8</td>\n",
       "      <td>2015</td>\n",
       "      <td>2</td>\n",
       "      <td>22116</td>\n",
       "      <td>noida</td>\n",
       "      <td>0.0</td>\n",
       "      <td>0.0</td>\n",
       "      <td>1</td>\n",
       "      <td>367216.0</td>\n",
       "      <td>False</td>\n",
       "    </tr>\n",
       "  </tbody>\n",
       "</table>\n",
       "</div>"
      ],
      "text/plain": [
       "  car_name  yr_mfr  fuel_type  kms_run   city  body_type  transmission  \\\n",
       "0        7    2015          2     8063  noida        0.0           0.0   \n",
       "1        7    2016          2    23104  noida        0.0           0.0   \n",
       "2        8    2017          2    23402  noida        0.0           0.0   \n",
       "3        7    2013          4    39124  noida        0.0           0.0   \n",
       "4        8    2015          2    22116  noida        0.0           0.0   \n",
       "\n",
       "   total_owners  original_price  warranty_avail  \n",
       "0             2        404177.0           False  \n",
       "1             1        354313.0           False  \n",
       "2             1             NaN           False  \n",
       "3             1        374326.0           False  \n",
       "4             1        367216.0           False  "
      ]
     },
     "execution_count": 63,
     "metadata": {},
     "output_type": "execute_result"
    }
   ],
   "source": [
    "train.head()"
   ]
  },
  {
   "cell_type": "code",
   "execution_count": 64,
   "id": "f74f1f1e",
   "metadata": {},
   "outputs": [],
   "source": [
    "def warranty(i):\n",
    "    if i == True:\n",
    "        return 1\n",
    "    if i == False:\n",
    "        return 2"
   ]
  },
  {
   "cell_type": "code",
   "execution_count": 65,
   "id": "8973b2ca",
   "metadata": {},
   "outputs": [
    {
     "name": "stderr",
     "output_type": "stream",
     "text": [
      "<ipython-input-65-6702ead27202>:1: SettingWithCopyWarning: \n",
      "A value is trying to be set on a copy of a slice from a DataFrame.\n",
      "Try using .loc[row_indexer,col_indexer] = value instead\n",
      "\n",
      "See the caveats in the documentation: https://pandas.pydata.org/pandas-docs/stable/user_guide/indexing.html#returning-a-view-versus-a-copy\n",
      "  train['warranty_avail'] = train['warranty_avail'].apply(warranty)\n"
     ]
    }
   ],
   "source": [
    "train['warranty_avail'] = train['warranty_avail'].apply(warranty)"
   ]
  },
  {
   "cell_type": "code",
   "execution_count": 66,
   "id": "9f170e74",
   "metadata": {},
   "outputs": [
    {
     "data": {
      "text/html": [
       "<div>\n",
       "<style scoped>\n",
       "    .dataframe tbody tr th:only-of-type {\n",
       "        vertical-align: middle;\n",
       "    }\n",
       "\n",
       "    .dataframe tbody tr th {\n",
       "        vertical-align: top;\n",
       "    }\n",
       "\n",
       "    .dataframe thead th {\n",
       "        text-align: right;\n",
       "    }\n",
       "</style>\n",
       "<table border=\"1\" class=\"dataframe\">\n",
       "  <thead>\n",
       "    <tr style=\"text-align: right;\">\n",
       "      <th></th>\n",
       "      <th>car_name</th>\n",
       "      <th>yr_mfr</th>\n",
       "      <th>fuel_type</th>\n",
       "      <th>kms_run</th>\n",
       "      <th>city</th>\n",
       "      <th>body_type</th>\n",
       "      <th>transmission</th>\n",
       "      <th>total_owners</th>\n",
       "      <th>original_price</th>\n",
       "      <th>warranty_avail</th>\n",
       "    </tr>\n",
       "  </thead>\n",
       "  <tbody>\n",
       "    <tr>\n",
       "      <th>0</th>\n",
       "      <td>7</td>\n",
       "      <td>2015</td>\n",
       "      <td>2</td>\n",
       "      <td>8063</td>\n",
       "      <td>noida</td>\n",
       "      <td>0.0</td>\n",
       "      <td>0.0</td>\n",
       "      <td>2</td>\n",
       "      <td>404177.0</td>\n",
       "      <td>2</td>\n",
       "    </tr>\n",
       "    <tr>\n",
       "      <th>1</th>\n",
       "      <td>7</td>\n",
       "      <td>2016</td>\n",
       "      <td>2</td>\n",
       "      <td>23104</td>\n",
       "      <td>noida</td>\n",
       "      <td>0.0</td>\n",
       "      <td>0.0</td>\n",
       "      <td>1</td>\n",
       "      <td>354313.0</td>\n",
       "      <td>2</td>\n",
       "    </tr>\n",
       "    <tr>\n",
       "      <th>2</th>\n",
       "      <td>8</td>\n",
       "      <td>2017</td>\n",
       "      <td>2</td>\n",
       "      <td>23402</td>\n",
       "      <td>noida</td>\n",
       "      <td>0.0</td>\n",
       "      <td>0.0</td>\n",
       "      <td>1</td>\n",
       "      <td>NaN</td>\n",
       "      <td>2</td>\n",
       "    </tr>\n",
       "    <tr>\n",
       "      <th>3</th>\n",
       "      <td>7</td>\n",
       "      <td>2013</td>\n",
       "      <td>4</td>\n",
       "      <td>39124</td>\n",
       "      <td>noida</td>\n",
       "      <td>0.0</td>\n",
       "      <td>0.0</td>\n",
       "      <td>1</td>\n",
       "      <td>374326.0</td>\n",
       "      <td>2</td>\n",
       "    </tr>\n",
       "    <tr>\n",
       "      <th>4</th>\n",
       "      <td>8</td>\n",
       "      <td>2015</td>\n",
       "      <td>2</td>\n",
       "      <td>22116</td>\n",
       "      <td>noida</td>\n",
       "      <td>0.0</td>\n",
       "      <td>0.0</td>\n",
       "      <td>1</td>\n",
       "      <td>367216.0</td>\n",
       "      <td>2</td>\n",
       "    </tr>\n",
       "  </tbody>\n",
       "</table>\n",
       "</div>"
      ],
      "text/plain": [
       "  car_name  yr_mfr  fuel_type  kms_run   city  body_type  transmission  \\\n",
       "0        7    2015          2     8063  noida        0.0           0.0   \n",
       "1        7    2016          2    23104  noida        0.0           0.0   \n",
       "2        8    2017          2    23402  noida        0.0           0.0   \n",
       "3        7    2013          4    39124  noida        0.0           0.0   \n",
       "4        8    2015          2    22116  noida        0.0           0.0   \n",
       "\n",
       "   total_owners  original_price  warranty_avail  \n",
       "0             2        404177.0               2  \n",
       "1             1        354313.0               2  \n",
       "2             1             NaN               2  \n",
       "3             1        374326.0               2  \n",
       "4             1        367216.0               2  "
      ]
     },
     "execution_count": 66,
     "metadata": {},
     "output_type": "execute_result"
    }
   ],
   "source": [
    "train.head()"
   ]
  },
  {
   "cell_type": "code",
   "execution_count": 68,
   "id": "c00383a5",
   "metadata": {},
   "outputs": [],
   "source": [
    "train = pd.get_dummies(train, columns=['city'], drop_first=True)"
   ]
  },
  {
   "cell_type": "code",
   "execution_count": null,
   "id": "d186e3a5",
   "metadata": {},
   "outputs": [],
   "source": [
    "train.head()"
   ]
  }
 ],
 "metadata": {
  "kernelspec": {
   "display_name": "Python 3",
   "language": "python",
   "name": "python3"
  },
  "language_info": {
   "codemirror_mode": {
    "name": "ipython",
    "version": 3
   },
   "file_extension": ".py",
   "mimetype": "text/x-python",
   "name": "python",
   "nbconvert_exporter": "python",
   "pygments_lexer": "ipython3",
   "version": "3.8.8"
  }
 },
 "nbformat": 4,
 "nbformat_minor": 5
}
